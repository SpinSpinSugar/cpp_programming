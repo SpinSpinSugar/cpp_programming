{
 "cells": [
  {
   "cell_type": "code",
   "execution_count": null,
   "metadata": {},
   "outputs": [],
   "source": [
    "# Check this: https://colab.research.google.com/drive/1r4rMwFUHMKDOX4iujSbZSc6t6MiDbMaW"
   ]
  },
  {
   "cell_type": "code",
   "execution_count": null,
   "metadata": {},
   "outputs": [],
   "source": [
    "import matplotlib.pyplot as plt"
   ]
  },
  {
   "cell_type": "code",
   "execution_count": null,
   "metadata": {},
   "outputs": [],
   "source": [
    "data = open('data/dataset', 'r')\n",
    "data = data.read().split('\\n')\n",
    "data.pop()"
   ]
  },
  {
   "cell_type": "code",
   "execution_count": null,
   "metadata": {},
   "outputs": [],
   "source": [
    "numberOfDots = int(data[0])\n",
    "dataCategory = list(map(lambda val: int(val), data[1].split()))\n",
    "xcoords = list(map(lambda val: float(val), data[2].split()))\n",
    "ycoords = list(map(lambda val: float(val), data[3].split()))"
   ]
  },
  {
   "cell_type": "code",
   "execution_count": null,
   "metadata": {},
   "outputs": [],
   "source": [
    "plt.scatter(xcoords, ycoords, s = 1)"
   ]
  },
  {
   "cell_type": "code",
   "execution_count": null,
   "metadata": {},
   "outputs": [],
   "source": [
    "learnDataCateg = dataCategory[int(numberOfDots / 10):]\n",
    "learnX = xcoords[int(numberOfDots / 10):]\n",
    "learnY = ycoords[int(numberOfDots / 10):]"
   ]
  },
  {
   "cell_type": "code",
   "execution_count": null,
   "metadata": {},
   "outputs": [],
   "source": [
    "testDataCateg = dataCategory[:int(numberOfDots / 10)]\n",
    "testX = xcoords[:int(numberOfDots / 10)]\n",
    "testY = ycoords[:int(numberOfDots / 10)]"
   ]
  },
  {
   "cell_type": "code",
   "execution_count": null,
   "metadata": {
    "scrolled": true
   },
   "outputs": [],
   "source": [
    "from sklearn.neighbors import KNeighborsClassifier\n",
    "n_neighbors = 1\n",
    "model = KNeighborsClassifier(n_neighbors=n_neighbors)"
   ]
  },
  {
   "cell_type": "code",
   "execution_count": null,
   "metadata": {},
   "outputs": [],
   "source": [
    "learn = []\n",
    "for a,b in zip(learnX, learnY):\n",
    "    learn.append([a, b])\n",
    "\n",
    "test = []\n",
    "for a,b in zip(testX, testY):\n",
    "    test.append([a, b])"
   ]
  },
  {
   "cell_type": "code",
   "execution_count": null,
   "metadata": {},
   "outputs": [],
   "source": [
    "model.fit(learn, learnDataCateg)\n",
    "pred = model.predict(test)"
   ]
  },
  {
   "cell_type": "code",
   "execution_count": null,
   "metadata": {},
   "outputs": [],
   "source": [
    "right = 0\n",
    "for i in range(len(testDataCateg)):\n",
    "    if pred[i] == testDataCateg[i]:\n",
    "        right += 1\n",
    "print (right / len(testDataCateg))"
   ]
  },
  {
   "cell_type": "code",
   "execution_count": null,
   "metadata": {},
   "outputs": [],
   "source": []
  }
 ],
 "metadata": {
  "kernelspec": {
   "display_name": "Python 3 (ipykernel)",
   "language": "python",
   "name": "python3"
  },
  "language_info": {
   "codemirror_mode": {
    "name": "ipython",
    "version": 3
   },
   "file_extension": ".py",
   "mimetype": "text/x-python",
   "name": "python",
   "nbconvert_exporter": "python",
   "pygments_lexer": "ipython3",
   "version": "3.10.6"
  }
 },
 "nbformat": 4,
 "nbformat_minor": 1
}
