{
 "cells": [
  {
   "cell_type": "code",
   "execution_count": null,
   "id": "9de021b7",
   "metadata": {},
   "outputs": [],
   "source": [
    "# Check this: https://scikit-learn.org/stable/modules/svm.html"
   ]
  },
  {
   "cell_type": "code",
   "execution_count": null,
   "id": "a70f70ef",
   "metadata": {},
   "outputs": [],
   "source": [
    "import matplotlib.pyplot as plt"
   ]
  },
  {
   "cell_type": "code",
   "execution_count": null,
   "id": "57ddfbff",
   "metadata": {},
   "outputs": [],
   "source": [
    "data = open('data/dataset', 'r')\n",
    "data = data.read().split('\\n')\n",
    "data.pop()"
   ]
  },
  {
   "cell_type": "code",
   "execution_count": null,
   "id": "1c9d9585",
   "metadata": {},
   "outputs": [],
   "source": [
    "numberOfDots = int(data[0])\n",
    "dataCategory = list(map(lambda val: int(val), data[1].split()))\n",
    "xcoords = list(map(lambda val: float(val), data[2].split()))\n",
    "ycoords = list(map(lambda val: float(val), data[3].split()))\n"
   ]
  },
  {
   "cell_type": "code",
   "execution_count": null,
   "id": "13d9d803",
   "metadata": {},
   "outputs": [],
   "source": [
    "plt.scatter(xcoords, ycoords, s = 1)"
   ]
  },
  {
   "cell_type": "code",
   "execution_count": null,
   "id": "3a0377c6",
   "metadata": {},
   "outputs": [],
   "source": [
    "learnDataCateg = dataCategory[int(numberOfDots / 10):]\n",
    "learnX = xcoords[int(numberOfDots / 10):]\n",
    "learnY = ycoords[int(numberOfDots / 10):]"
   ]
  },
  {
   "cell_type": "code",
   "execution_count": null,
   "id": "0de85c50",
   "metadata": {},
   "outputs": [],
   "source": [
    "testDataCateg = dataCategory[:int(numberOfDots / 10)]\n",
    "testX = xcoords[:int(numberOfDots / 10)]\n",
    "testY = ycoords[:int(numberOfDots / 10)]"
   ]
  },
  {
   "cell_type": "code",
   "execution_count": null,
   "id": "3596f166",
   "metadata": {},
   "outputs": [],
   "source": [
    "from sklearn import svm"
   ]
  },
  {
   "cell_type": "code",
   "execution_count": null,
   "id": "920388f6",
   "metadata": {},
   "outputs": [],
   "source": [
    "learn = []\n",
    "for a,b in zip(learnX, learnY):\n",
    "    learn.append([a, b])\n",
    "\n",
    "test = []\n",
    "for a,b in zip(testX, testY):\n",
    "    test.append([a, b])"
   ]
  },
  {
   "cell_type": "code",
   "execution_count": null,
   "id": "5d3624c6",
   "metadata": {},
   "outputs": [],
   "source": [
    "clf = svm.SVC()\n",
    "clf.fit(learn, learnDataCateg)\n",
    "pred = clf.predict(test)"
   ]
  },
  {
   "cell_type": "code",
   "execution_count": null,
   "id": "44128d9e",
   "metadata": {},
   "outputs": [],
   "source": [
    "right = 0\n",
    "for i in range(len(testDataCateg)):\n",
    "    if pred[i] == testDataCateg[i]:\n",
    "        right += 1\n",
    "print (right / len(testDataCateg))"
   ]
  },
  {
   "cell_type": "code",
   "execution_count": null,
   "id": "c38f75d5",
   "metadata": {},
   "outputs": [],
   "source": []
  }
 ],
 "metadata": {
  "kernelspec": {
   "display_name": "Python 3 (ipykernel)",
   "language": "python",
   "name": "python3"
  },
  "language_info": {
   "codemirror_mode": {
    "name": "ipython",
    "version": 3
   },
   "file_extension": ".py",
   "mimetype": "text/x-python",
   "name": "python",
   "nbconvert_exporter": "python",
   "pygments_lexer": "ipython3",
   "version": "3.10.6"
  }
 },
 "nbformat": 4,
 "nbformat_minor": 5
}
